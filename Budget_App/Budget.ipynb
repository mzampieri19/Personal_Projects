{
 "cells": [
  {
   "cell_type": "code",
   "execution_count": 2,
   "metadata": {},
   "outputs": [],
   "source": [
    "import pandas as pd\n",
    "import numpy as np\n",
    "import os \n",
    "import matplotlib.pyplot as plt\n",
    "\n",
    "from sklearn.model_selection import train_test_split \n",
    "from sklearn.preprocessing import OneHotEncoder \n",
    "from sklearn.tree import DecisionTreeClassifier\n",
    "from sklearn.neighbors import KNeighborsClassifier\n",
    "from sklearn.metrics import accuracy_score"
   ]
  },
  {
   "cell_type": "markdown",
   "metadata": {},
   "source": [
    "Load the data from their combined CSV into DataFrames "
   ]
  },
  {
   "cell_type": "code",
   "execution_count": 3,
   "metadata": {},
   "outputs": [],
   "source": [
    "filename1 = '/Users/michelangelozampieri/Desktop/Repositories/Personal_Projects/Sensative_Info/Transactions/combined_AMEX.csv'\n",
    "filename2 = '/Users/michelangelozampieri/Desktop/Repositories/Personal_Projects/Sensative_Info/Transactions/combined_AppleCard.csv'\n",
    "filename3 = '/Users/michelangelozampieri/Desktop/Repositories/Personal_Projects/Sensative_Info/Transactions/combined_CapitalOne.csv'"
   ]
  },
  {
   "cell_type": "code",
   "execution_count": 4,
   "metadata": {},
   "outputs": [],
   "source": [
    "df1 = pd.read_csv(filename1)\n",
    "df2 = pd.read_csv(filename2)\n",
    "df3 = pd.read_csv(filename3)"
   ]
  },
  {
   "cell_type": "markdown",
   "metadata": {},
   "source": [
    "Get a sense of the data by looking at the shape, columns, and first few entries. "
   ]
  },
  {
   "cell_type": "code",
   "execution_count": 5,
   "metadata": {},
   "outputs": [
    {
     "data": {
      "text/html": [
       "<div>\n",
       "<style scoped>\n",
       "    .dataframe tbody tr th:only-of-type {\n",
       "        vertical-align: middle;\n",
       "    }\n",
       "\n",
       "    .dataframe tbody tr th {\n",
       "        vertical-align: top;\n",
       "    }\n",
       "\n",
       "    .dataframe thead th {\n",
       "        text-align: right;\n",
       "    }\n",
       "</style>\n",
       "<table border=\"1\" class=\"dataframe\">\n",
       "  <thead>\n",
       "    <tr style=\"text-align: right;\">\n",
       "      <th></th>\n",
       "      <th>Date</th>\n",
       "      <th>Description</th>\n",
       "      <th>Amount</th>\n",
       "      <th>Extended Details</th>\n",
       "      <th>Appears On Your Statement As</th>\n",
       "      <th>Address</th>\n",
       "      <th>City/State</th>\n",
       "      <th>Zip Code</th>\n",
       "      <th>Country</th>\n",
       "      <th>Reference</th>\n",
       "      <th>Category</th>\n",
       "    </tr>\n",
       "  </thead>\n",
       "  <tbody>\n",
       "    <tr>\n",
       "      <th>0</th>\n",
       "      <td>04/27/2024</td>\n",
       "      <td>MOBILE PAYMENT - THANK YOU</td>\n",
       "      <td>-100.00</td>\n",
       "      <td>MOBILE PAYMENT - THANK YOU</td>\n",
       "      <td>MOBILE PAYMENT - THANK YOU</td>\n",
       "      <td>NaN</td>\n",
       "      <td>NaN</td>\n",
       "      <td>NaN</td>\n",
       "      <td>NaN</td>\n",
       "      <td>'320241180382445031'</td>\n",
       "      <td>NaN</td>\n",
       "    </tr>\n",
       "    <tr>\n",
       "      <th>1</th>\n",
       "      <td>04/20/2024</td>\n",
       "      <td>MOBILE PAYMENT - THANK YOU</td>\n",
       "      <td>-710.00</td>\n",
       "      <td>MOBILE PAYMENT - THANK YOU</td>\n",
       "      <td>MOBILE PAYMENT - THANK YOU</td>\n",
       "      <td>NaN</td>\n",
       "      <td>NaN</td>\n",
       "      <td>NaN</td>\n",
       "      <td>NaN</td>\n",
       "      <td>'320241110208663853'</td>\n",
       "      <td>NaN</td>\n",
       "    </tr>\n",
       "    <tr>\n",
       "      <th>2</th>\n",
       "      <td>04/18/2024</td>\n",
       "      <td>USCIS ELIS N400 0000WASHINGTON          DC</td>\n",
       "      <td>710.00</td>\n",
       "      <td>99999994110I4L06O3UU18L1K   20529\\nImmigration...</td>\n",
       "      <td>USCIS ELIS N400 0000WASHINGTON          DC</td>\n",
       "      <td>111 MASSACHUSETTS AVE</td>\n",
       "      <td>WASHINGTON\\nDC</td>\n",
       "      <td>20529</td>\n",
       "      <td>UNITED STATES</td>\n",
       "      <td>'320241100200512051'</td>\n",
       "      <td>Other-Government Services</td>\n",
       "    </tr>\n",
       "    <tr>\n",
       "      <th>3</th>\n",
       "      <td>04/13/2024</td>\n",
       "      <td>MOBILE PAYMENT - THANK YOU</td>\n",
       "      <td>-100.00</td>\n",
       "      <td>MOBILE PAYMENT - THANK YOU</td>\n",
       "      <td>MOBILE PAYMENT - THANK YOU</td>\n",
       "      <td>NaN</td>\n",
       "      <td>NaN</td>\n",
       "      <td>NaN</td>\n",
       "      <td>NaN</td>\n",
       "      <td>'320241040029297214'</td>\n",
       "      <td>NaN</td>\n",
       "    </tr>\n",
       "    <tr>\n",
       "      <th>4</th>\n",
       "      <td>04/08/2024</td>\n",
       "      <td>AMAZON MARKEPLACE NA PA</td>\n",
       "      <td>27.98</td>\n",
       "      <td>2FB461MWOUL MERCHANDISE\\nAMAZON MARKETPLACE NA...</td>\n",
       "      <td>AMAZON MARKETPLACE NAMZN.COM/BILL       WA</td>\n",
       "      <td>410 TERRY AVE N</td>\n",
       "      <td>SEATTLE\\nWA</td>\n",
       "      <td>98109</td>\n",
       "      <td>UNITED STATES</td>\n",
       "      <td>'320241000932028892'</td>\n",
       "      <td>Merchandise &amp; Supplies-Internet Purchase</td>\n",
       "    </tr>\n",
       "  </tbody>\n",
       "</table>\n",
       "</div>"
      ],
      "text/plain": [
       "         Date                                 Description  Amount  \\\n",
       "0  04/27/2024                  MOBILE PAYMENT - THANK YOU -100.00   \n",
       "1  04/20/2024                  MOBILE PAYMENT - THANK YOU -710.00   \n",
       "2  04/18/2024  USCIS ELIS N400 0000WASHINGTON          DC  710.00   \n",
       "3  04/13/2024                  MOBILE PAYMENT - THANK YOU -100.00   \n",
       "4  04/08/2024                     AMAZON MARKEPLACE NA PA   27.98   \n",
       "\n",
       "                                    Extended Details  \\\n",
       "0                         MOBILE PAYMENT - THANK YOU   \n",
       "1                         MOBILE PAYMENT - THANK YOU   \n",
       "2  99999994110I4L06O3UU18L1K   20529\\nImmigration...   \n",
       "3                         MOBILE PAYMENT - THANK YOU   \n",
       "4  2FB461MWOUL MERCHANDISE\\nAMAZON MARKETPLACE NA...   \n",
       "\n",
       "                 Appears On Your Statement As                Address  \\\n",
       "0                  MOBILE PAYMENT - THANK YOU                    NaN   \n",
       "1                  MOBILE PAYMENT - THANK YOU                    NaN   \n",
       "2  USCIS ELIS N400 0000WASHINGTON          DC  111 MASSACHUSETTS AVE   \n",
       "3                  MOBILE PAYMENT - THANK YOU                    NaN   \n",
       "4  AMAZON MARKETPLACE NAMZN.COM/BILL       WA        410 TERRY AVE N   \n",
       "\n",
       "       City/State Zip Code        Country             Reference  \\\n",
       "0             NaN      NaN            NaN  '320241180382445031'   \n",
       "1             NaN      NaN            NaN  '320241110208663853'   \n",
       "2  WASHINGTON\\nDC    20529  UNITED STATES  '320241100200512051'   \n",
       "3             NaN      NaN            NaN  '320241040029297214'   \n",
       "4     SEATTLE\\nWA    98109  UNITED STATES  '320241000932028892'   \n",
       "\n",
       "                                   Category  \n",
       "0                                       NaN  \n",
       "1                                       NaN  \n",
       "2                 Other-Government Services  \n",
       "3                                       NaN  \n",
       "4  Merchandise & Supplies-Internet Purchase  "
      ]
     },
     "execution_count": 5,
     "metadata": {},
     "output_type": "execute_result"
    }
   ],
   "source": [
    "df1.head()"
   ]
  },
  {
   "cell_type": "code",
   "execution_count": 6,
   "metadata": {},
   "outputs": [
    {
     "data": {
      "text/html": [
       "<div>\n",
       "<style scoped>\n",
       "    .dataframe tbody tr th:only-of-type {\n",
       "        vertical-align: middle;\n",
       "    }\n",
       "\n",
       "    .dataframe tbody tr th {\n",
       "        vertical-align: top;\n",
       "    }\n",
       "\n",
       "    .dataframe thead th {\n",
       "        text-align: right;\n",
       "    }\n",
       "</style>\n",
       "<table border=\"1\" class=\"dataframe\">\n",
       "  <thead>\n",
       "    <tr style=\"text-align: right;\">\n",
       "      <th></th>\n",
       "      <th>Transaction Date</th>\n",
       "      <th>Clearing Date</th>\n",
       "      <th>Description</th>\n",
       "      <th>Merchant</th>\n",
       "      <th>Category</th>\n",
       "      <th>Type</th>\n",
       "      <th>Amount (USD)</th>\n",
       "      <th>Purchased By</th>\n",
       "    </tr>\n",
       "  </thead>\n",
       "  <tbody>\n",
       "    <tr>\n",
       "      <th>0</th>\n",
       "      <td>09/28/2023</td>\n",
       "      <td>09/29/2023</td>\n",
       "      <td>ACH DEPOSIT INTERNET TRANSFER FROM ACCOUNT END...</td>\n",
       "      <td>Ach Deposit Internet Transfer From Account End...</td>\n",
       "      <td>Payment</td>\n",
       "      <td>Payment</td>\n",
       "      <td>-150.00</td>\n",
       "      <td>Michelangelo Zampieri</td>\n",
       "    </tr>\n",
       "    <tr>\n",
       "      <th>1</th>\n",
       "      <td>09/26/2023</td>\n",
       "      <td>09/27/2023</td>\n",
       "      <td>ACH DEPOSIT INTERNET TRANSFER (REVERSAL)</td>\n",
       "      <td>Ach Deposit Internet Transfer (reversal)</td>\n",
       "      <td>Other</td>\n",
       "      <td>Other</td>\n",
       "      <td>150.00</td>\n",
       "      <td>Michelangelo Zampieri</td>\n",
       "    </tr>\n",
       "    <tr>\n",
       "      <th>2</th>\n",
       "      <td>09/23/2023</td>\n",
       "      <td>09/23/2023</td>\n",
       "      <td>ACH DEPOSIT INTERNET TRANSFER FROM ACCOUNT END...</td>\n",
       "      <td>Ach Deposit Internet Transfer From Account End...</td>\n",
       "      <td>Payment</td>\n",
       "      <td>Payment</td>\n",
       "      <td>-150.00</td>\n",
       "      <td>Michelangelo Zampieri</td>\n",
       "    </tr>\n",
       "    <tr>\n",
       "      <th>3</th>\n",
       "      <td>09/22/2023</td>\n",
       "      <td>09/23/2023</td>\n",
       "      <td>MARKET BASKET 0000024026 MIDDLESEX TURNPIKE BU...</td>\n",
       "      <td>Market Basket</td>\n",
       "      <td>Grocery</td>\n",
       "      <td>Purchase</td>\n",
       "      <td>17.79</td>\n",
       "      <td>Michelangelo Zampieri</td>\n",
       "    </tr>\n",
       "    <tr>\n",
       "      <th>4</th>\n",
       "      <td>09/12/2023</td>\n",
       "      <td>09/13/2023</td>\n",
       "      <td>AMK BRANDEIS THE HOOT 415 SOUTH ST WALTHAM 024...</td>\n",
       "      <td>AMK Brandeis the Hoot</td>\n",
       "      <td>Restaurants</td>\n",
       "      <td>Purchase</td>\n",
       "      <td>11.68</td>\n",
       "      <td>Michelangelo Zampieri</td>\n",
       "    </tr>\n",
       "  </tbody>\n",
       "</table>\n",
       "</div>"
      ],
      "text/plain": [
       "  Transaction Date Clearing Date  \\\n",
       "0       09/28/2023    09/29/2023   \n",
       "1       09/26/2023    09/27/2023   \n",
       "2       09/23/2023    09/23/2023   \n",
       "3       09/22/2023    09/23/2023   \n",
       "4       09/12/2023    09/13/2023   \n",
       "\n",
       "                                         Description  \\\n",
       "0  ACH DEPOSIT INTERNET TRANSFER FROM ACCOUNT END...   \n",
       "1           ACH DEPOSIT INTERNET TRANSFER (REVERSAL)   \n",
       "2  ACH DEPOSIT INTERNET TRANSFER FROM ACCOUNT END...   \n",
       "3  MARKET BASKET 0000024026 MIDDLESEX TURNPIKE BU...   \n",
       "4  AMK BRANDEIS THE HOOT 415 SOUTH ST WALTHAM 024...   \n",
       "\n",
       "                                            Merchant     Category      Type  \\\n",
       "0  Ach Deposit Internet Transfer From Account End...      Payment   Payment   \n",
       "1           Ach Deposit Internet Transfer (reversal)        Other     Other   \n",
       "2  Ach Deposit Internet Transfer From Account End...      Payment   Payment   \n",
       "3                                      Market Basket      Grocery  Purchase   \n",
       "4                              AMK Brandeis the Hoot  Restaurants  Purchase   \n",
       "\n",
       "   Amount (USD)           Purchased By  \n",
       "0       -150.00  Michelangelo Zampieri  \n",
       "1        150.00  Michelangelo Zampieri  \n",
       "2       -150.00  Michelangelo Zampieri  \n",
       "3         17.79  Michelangelo Zampieri  \n",
       "4         11.68  Michelangelo Zampieri  "
      ]
     },
     "execution_count": 6,
     "metadata": {},
     "output_type": "execute_result"
    }
   ],
   "source": [
    "df2.head()"
   ]
  },
  {
   "cell_type": "code",
   "execution_count": 7,
   "metadata": {},
   "outputs": [
    {
     "data": {
      "text/html": [
       "<div>\n",
       "<style scoped>\n",
       "    .dataframe tbody tr th:only-of-type {\n",
       "        vertical-align: middle;\n",
       "    }\n",
       "\n",
       "    .dataframe tbody tr th {\n",
       "        vertical-align: top;\n",
       "    }\n",
       "\n",
       "    .dataframe thead th {\n",
       "        text-align: right;\n",
       "    }\n",
       "</style>\n",
       "<table border=\"1\" class=\"dataframe\">\n",
       "  <thead>\n",
       "    <tr style=\"text-align: right;\">\n",
       "      <th></th>\n",
       "      <th>Transaction Date</th>\n",
       "      <th>Posted Date</th>\n",
       "      <th>Card No.</th>\n",
       "      <th>Description</th>\n",
       "      <th>Category</th>\n",
       "      <th>Debit</th>\n",
       "      <th>Credit</th>\n",
       "    </tr>\n",
       "  </thead>\n",
       "  <tbody>\n",
       "    <tr>\n",
       "      <th>0</th>\n",
       "      <td>2023-12-28</td>\n",
       "      <td>2023-12-28</td>\n",
       "      <td>2200</td>\n",
       "      <td>CAPITAL ONE MOBILE PYMT</td>\n",
       "      <td>Payment/Credit</td>\n",
       "      <td>NaN</td>\n",
       "      <td>40.0</td>\n",
       "    </tr>\n",
       "    <tr>\n",
       "      <th>1</th>\n",
       "      <td>2023-12-27</td>\n",
       "      <td>2023-12-28</td>\n",
       "      <td>2200</td>\n",
       "      <td>PLAYSTATION NETWORK</td>\n",
       "      <td>Internet</td>\n",
       "      <td>19.11</td>\n",
       "      <td>NaN</td>\n",
       "    </tr>\n",
       "    <tr>\n",
       "      <th>2</th>\n",
       "      <td>2023-12-20</td>\n",
       "      <td>2023-12-20</td>\n",
       "      <td>2200</td>\n",
       "      <td>GOOGLE *YouTube Videos</td>\n",
       "      <td>Entertainment</td>\n",
       "      <td>24.99</td>\n",
       "      <td>NaN</td>\n",
       "    </tr>\n",
       "    <tr>\n",
       "      <th>3</th>\n",
       "      <td>2023-12-17</td>\n",
       "      <td>2023-12-18</td>\n",
       "      <td>2200</td>\n",
       "      <td>Spotify USA</td>\n",
       "      <td>Phone/Cable</td>\n",
       "      <td>10.99</td>\n",
       "      <td>NaN</td>\n",
       "    </tr>\n",
       "    <tr>\n",
       "      <th>4</th>\n",
       "      <td>2023-12-14</td>\n",
       "      <td>2023-12-15</td>\n",
       "      <td>2200</td>\n",
       "      <td>Disney Plus</td>\n",
       "      <td>Phone/Cable</td>\n",
       "      <td>24.99</td>\n",
       "      <td>NaN</td>\n",
       "    </tr>\n",
       "  </tbody>\n",
       "</table>\n",
       "</div>"
      ],
      "text/plain": [
       "  Transaction Date Posted Date  Card No.              Description  \\\n",
       "0       2023-12-28  2023-12-28      2200  CAPITAL ONE MOBILE PYMT   \n",
       "1       2023-12-27  2023-12-28      2200      PLAYSTATION NETWORK   \n",
       "2       2023-12-20  2023-12-20      2200   GOOGLE *YouTube Videos   \n",
       "3       2023-12-17  2023-12-18      2200              Spotify USA   \n",
       "4       2023-12-14  2023-12-15      2200              Disney Plus   \n",
       "\n",
       "         Category  Debit  Credit  \n",
       "0  Payment/Credit    NaN    40.0  \n",
       "1        Internet  19.11     NaN  \n",
       "2   Entertainment  24.99     NaN  \n",
       "3     Phone/Cable  10.99     NaN  \n",
       "4     Phone/Cable  24.99     NaN  "
      ]
     },
     "execution_count": 7,
     "metadata": {},
     "output_type": "execute_result"
    }
   ],
   "source": [
    "df3.head()"
   ]
  },
  {
   "cell_type": "code",
   "execution_count": 8,
   "metadata": {},
   "outputs": [
    {
     "data": {
      "text/plain": [
       "((148, 11), (259, 8), (115, 7))"
      ]
     },
     "execution_count": 8,
     "metadata": {},
     "output_type": "execute_result"
    }
   ],
   "source": [
    "df1.shape , df2.shape , df3.shape"
   ]
  },
  {
   "cell_type": "code",
   "execution_count": 9,
   "metadata": {},
   "outputs": [
    {
     "data": {
      "text/plain": [
       "(Index(['Date', 'Description', 'Amount', 'Extended Details',\n",
       "        'Appears On Your Statement As', 'Address', 'City/State', 'Zip Code',\n",
       "        'Country', 'Reference', 'Category'],\n",
       "       dtype='object'),\n",
       " Index(['Transaction Date', 'Clearing Date', 'Description', 'Merchant',\n",
       "        'Category', 'Type', 'Amount (USD)', 'Purchased By'],\n",
       "       dtype='object'),\n",
       " Index(['Transaction Date', 'Posted Date', 'Card No.', 'Description',\n",
       "        'Category', 'Debit', 'Credit'],\n",
       "       dtype='object'))"
      ]
     },
     "execution_count": 9,
     "metadata": {},
     "output_type": "execute_result"
    }
   ],
   "source": [
    "df1.columns , df2.columns , df3.columns"
   ]
  },
  {
   "cell_type": "markdown",
   "metadata": {},
   "source": [
    "The label, what we are trying to predict is the category of the transaction, meaning that eveything else will be a feature. "
   ]
  },
  {
   "cell_type": "markdown",
   "metadata": {},
   "source": [
    "Now start cleaning the data, begin by seeing if there are any missing values. Looking at each data frames:\n",
    "\n",
    "df1 has many missing values for the address, city and zip code, those are not really relevent so we can just drop the column altogether. \n",
    "\n",
    "df2 does not seem to have ny missing values \n",
    "\n",
    "df3 has missing values for either debit or credit, if one transaction is debit it will have null for credit and vice versa this can be fixed later. "
   ]
  },
  {
   "cell_type": "markdown",
   "metadata": {},
   "source": [
    "Start by dropping the columns not needed in df1, those will be 'address', 'state', 'zip-code', 'country', 'extended-details' and 'refrence' "
   ]
  },
  {
   "cell_type": "code",
   "execution_count": 21,
   "metadata": {},
   "outputs": [],
   "source": [
    "columns_to_drop = ['Extended Details', 'Appears On Your Statement As', 'Address', 'City/State', 'Zip Code', 'Country', 'Reference']\n",
    "\n",
    "columns_present = [col for col in columns_to_drop if col in df1.columns]\n",
    "\n",
    "df1.drop(columns=columns_present, inplace=True)"
   ]
  },
  {
   "cell_type": "code",
   "execution_count": 22,
   "metadata": {},
   "outputs": [
    {
     "data": {
      "text/html": [
       "<div>\n",
       "<style scoped>\n",
       "    .dataframe tbody tr th:only-of-type {\n",
       "        vertical-align: middle;\n",
       "    }\n",
       "\n",
       "    .dataframe tbody tr th {\n",
       "        vertical-align: top;\n",
       "    }\n",
       "\n",
       "    .dataframe thead th {\n",
       "        text-align: right;\n",
       "    }\n",
       "</style>\n",
       "<table border=\"1\" class=\"dataframe\">\n",
       "  <thead>\n",
       "    <tr style=\"text-align: right;\">\n",
       "      <th></th>\n",
       "      <th>Date</th>\n",
       "      <th>Description</th>\n",
       "      <th>Amount</th>\n",
       "      <th>Category</th>\n",
       "    </tr>\n",
       "  </thead>\n",
       "  <tbody>\n",
       "    <tr>\n",
       "      <th>0</th>\n",
       "      <td>04/27/2024</td>\n",
       "      <td>MOBILE PAYMENT - THANK YOU</td>\n",
       "      <td>-100.00</td>\n",
       "      <td>NaN</td>\n",
       "    </tr>\n",
       "    <tr>\n",
       "      <th>1</th>\n",
       "      <td>04/20/2024</td>\n",
       "      <td>MOBILE PAYMENT - THANK YOU</td>\n",
       "      <td>-710.00</td>\n",
       "      <td>NaN</td>\n",
       "    </tr>\n",
       "    <tr>\n",
       "      <th>2</th>\n",
       "      <td>04/18/2024</td>\n",
       "      <td>USCIS ELIS N400 0000WASHINGTON          DC</td>\n",
       "      <td>710.00</td>\n",
       "      <td>Other-Government Services</td>\n",
       "    </tr>\n",
       "    <tr>\n",
       "      <th>3</th>\n",
       "      <td>04/13/2024</td>\n",
       "      <td>MOBILE PAYMENT - THANK YOU</td>\n",
       "      <td>-100.00</td>\n",
       "      <td>NaN</td>\n",
       "    </tr>\n",
       "    <tr>\n",
       "      <th>4</th>\n",
       "      <td>04/08/2024</td>\n",
       "      <td>AMAZON MARKEPLACE NA PA</td>\n",
       "      <td>27.98</td>\n",
       "      <td>Merchandise &amp; Supplies-Internet Purchase</td>\n",
       "    </tr>\n",
       "  </tbody>\n",
       "</table>\n",
       "</div>"
      ],
      "text/plain": [
       "         Date                                 Description  Amount  \\\n",
       "0  04/27/2024                  MOBILE PAYMENT - THANK YOU -100.00   \n",
       "1  04/20/2024                  MOBILE PAYMENT - THANK YOU -710.00   \n",
       "2  04/18/2024  USCIS ELIS N400 0000WASHINGTON          DC  710.00   \n",
       "3  04/13/2024                  MOBILE PAYMENT - THANK YOU -100.00   \n",
       "4  04/08/2024                     AMAZON MARKEPLACE NA PA   27.98   \n",
       "\n",
       "                                   Category  \n",
       "0                                       NaN  \n",
       "1                                       NaN  \n",
       "2                 Other-Government Services  \n",
       "3                                       NaN  \n",
       "4  Merchandise & Supplies-Internet Purchase  "
      ]
     },
     "execution_count": 22,
     "metadata": {},
     "output_type": "execute_result"
    }
   ],
   "source": [
    "df1.head()"
   ]
  },
  {
   "cell_type": "markdown",
   "metadata": {},
   "source": [
    "Now drop columns in df2 that are not needed, those being 'Clearing Date\", 'Merchant', 'type' as it can be infered from the sign of the amount, and 'Purchased By'. "
   ]
  },
  {
   "cell_type": "code",
   "execution_count": 23,
   "metadata": {},
   "outputs": [],
   "source": [
    "columns_to_drop = ['Clearing Date', 'Merchant', 'Type', 'Purchased By']\n",
    "\n",
    "columns_present = [col for col in columns_to_drop if col in df2.columns]\n",
    "\n",
    "df2.drop(columns=columns_present, inplace=True)"
   ]
  },
  {
   "cell_type": "code",
   "execution_count": 24,
   "metadata": {},
   "outputs": [
    {
     "data": {
      "text/html": [
       "<div>\n",
       "<style scoped>\n",
       "    .dataframe tbody tr th:only-of-type {\n",
       "        vertical-align: middle;\n",
       "    }\n",
       "\n",
       "    .dataframe tbody tr th {\n",
       "        vertical-align: top;\n",
       "    }\n",
       "\n",
       "    .dataframe thead th {\n",
       "        text-align: right;\n",
       "    }\n",
       "</style>\n",
       "<table border=\"1\" class=\"dataframe\">\n",
       "  <thead>\n",
       "    <tr style=\"text-align: right;\">\n",
       "      <th></th>\n",
       "      <th>Date</th>\n",
       "      <th>Description</th>\n",
       "      <th>Category</th>\n",
       "      <th>Amount</th>\n",
       "    </tr>\n",
       "  </thead>\n",
       "  <tbody>\n",
       "    <tr>\n",
       "      <th>0</th>\n",
       "      <td>09/28/2023</td>\n",
       "      <td>ACH DEPOSIT INTERNET TRANSFER FROM ACCOUNT END...</td>\n",
       "      <td>Payment</td>\n",
       "      <td>-150.00</td>\n",
       "    </tr>\n",
       "    <tr>\n",
       "      <th>1</th>\n",
       "      <td>09/26/2023</td>\n",
       "      <td>ACH DEPOSIT INTERNET TRANSFER (REVERSAL)</td>\n",
       "      <td>Other</td>\n",
       "      <td>150.00</td>\n",
       "    </tr>\n",
       "    <tr>\n",
       "      <th>2</th>\n",
       "      <td>09/23/2023</td>\n",
       "      <td>ACH DEPOSIT INTERNET TRANSFER FROM ACCOUNT END...</td>\n",
       "      <td>Payment</td>\n",
       "      <td>-150.00</td>\n",
       "    </tr>\n",
       "    <tr>\n",
       "      <th>3</th>\n",
       "      <td>09/22/2023</td>\n",
       "      <td>MARKET BASKET 0000024026 MIDDLESEX TURNPIKE BU...</td>\n",
       "      <td>Grocery</td>\n",
       "      <td>17.79</td>\n",
       "    </tr>\n",
       "    <tr>\n",
       "      <th>4</th>\n",
       "      <td>09/12/2023</td>\n",
       "      <td>AMK BRANDEIS THE HOOT 415 SOUTH ST WALTHAM 024...</td>\n",
       "      <td>Restaurants</td>\n",
       "      <td>11.68</td>\n",
       "    </tr>\n",
       "  </tbody>\n",
       "</table>\n",
       "</div>"
      ],
      "text/plain": [
       "         Date                                        Description     Category  \\\n",
       "0  09/28/2023  ACH DEPOSIT INTERNET TRANSFER FROM ACCOUNT END...      Payment   \n",
       "1  09/26/2023           ACH DEPOSIT INTERNET TRANSFER (REVERSAL)        Other   \n",
       "2  09/23/2023  ACH DEPOSIT INTERNET TRANSFER FROM ACCOUNT END...      Payment   \n",
       "3  09/22/2023  MARKET BASKET 0000024026 MIDDLESEX TURNPIKE BU...      Grocery   \n",
       "4  09/12/2023  AMK BRANDEIS THE HOOT 415 SOUTH ST WALTHAM 024...  Restaurants   \n",
       "\n",
       "   Amount  \n",
       "0 -150.00  \n",
       "1  150.00  \n",
       "2 -150.00  \n",
       "3   17.79  \n",
       "4   11.68  "
      ]
     },
     "execution_count": 24,
     "metadata": {},
     "output_type": "execute_result"
    }
   ],
   "source": [
    "df2.head()"
   ]
  },
  {
   "cell_type": "markdown",
   "metadata": {},
   "source": [
    "Lastly, remove any features for df3. These will be: 'Posted Date', and 'Card No.', \n",
    "\n",
    "Will also combine credit and debit so it will either be one or the other in a new column 'Amount', where Credit will be negative."
   ]
  },
  {
   "cell_type": "code",
   "execution_count": 30,
   "metadata": {},
   "outputs": [],
   "source": [
    "columns_to_drop = ['Posted Date', 'Card No.']\n",
    "\n",
    "columns_present = [col for col in columns_to_drop if col in df3.columns]\n",
    "\n",
    "df3.drop(columns=columns_present, inplace=True)"
   ]
  },
  {
   "cell_type": "code",
   "execution_count": 28,
   "metadata": {},
   "outputs": [
    {
     "data": {
      "text/html": [
       "<div>\n",
       "<style scoped>\n",
       "    .dataframe tbody tr th:only-of-type {\n",
       "        vertical-align: middle;\n",
       "    }\n",
       "\n",
       "    .dataframe tbody tr th {\n",
       "        vertical-align: top;\n",
       "    }\n",
       "\n",
       "    .dataframe thead th {\n",
       "        text-align: right;\n",
       "    }\n",
       "</style>\n",
       "<table border=\"1\" class=\"dataframe\">\n",
       "  <thead>\n",
       "    <tr style=\"text-align: right;\">\n",
       "      <th></th>\n",
       "      <th>Date</th>\n",
       "      <th>Description</th>\n",
       "      <th>Category</th>\n",
       "      <th>Amount</th>\n",
       "    </tr>\n",
       "  </thead>\n",
       "  <tbody>\n",
       "    <tr>\n",
       "      <th>0</th>\n",
       "      <td>2023-12-28</td>\n",
       "      <td>CAPITAL ONE MOBILE PYMT</td>\n",
       "      <td>Payment/Credit</td>\n",
       "      <td>-40.00</td>\n",
       "    </tr>\n",
       "    <tr>\n",
       "      <th>1</th>\n",
       "      <td>2023-12-27</td>\n",
       "      <td>PLAYSTATION NETWORK</td>\n",
       "      <td>Internet</td>\n",
       "      <td>19.11</td>\n",
       "    </tr>\n",
       "    <tr>\n",
       "      <th>2</th>\n",
       "      <td>2023-12-20</td>\n",
       "      <td>GOOGLE *YouTube Videos</td>\n",
       "      <td>Entertainment</td>\n",
       "      <td>24.99</td>\n",
       "    </tr>\n",
       "    <tr>\n",
       "      <th>3</th>\n",
       "      <td>2023-12-17</td>\n",
       "      <td>Spotify USA</td>\n",
       "      <td>Phone/Cable</td>\n",
       "      <td>10.99</td>\n",
       "    </tr>\n",
       "    <tr>\n",
       "      <th>4</th>\n",
       "      <td>2023-12-14</td>\n",
       "      <td>Disney Plus</td>\n",
       "      <td>Phone/Cable</td>\n",
       "      <td>24.99</td>\n",
       "    </tr>\n",
       "    <tr>\n",
       "      <th>5</th>\n",
       "      <td>2023-12-08</td>\n",
       "      <td>APPLE.COM/BILL</td>\n",
       "      <td>Entertainment</td>\n",
       "      <td>2.99</td>\n",
       "    </tr>\n",
       "    <tr>\n",
       "      <th>6</th>\n",
       "      <td>2023-12-07</td>\n",
       "      <td>CAPITAL ONE AUTOPAY PYMT</td>\n",
       "      <td>Payment/Credit</td>\n",
       "      <td>-38.97</td>\n",
       "    </tr>\n",
       "    <tr>\n",
       "      <th>7</th>\n",
       "      <td>2023-11-17</td>\n",
       "      <td>Spotify USA</td>\n",
       "      <td>Phone/Cable</td>\n",
       "      <td>10.99</td>\n",
       "    </tr>\n",
       "    <tr>\n",
       "      <th>8</th>\n",
       "      <td>2023-11-14</td>\n",
       "      <td>MCDONALD'S F1473</td>\n",
       "      <td>Dining</td>\n",
       "      <td>12.97</td>\n",
       "    </tr>\n",
       "    <tr>\n",
       "      <th>9</th>\n",
       "      <td>2023-11-14</td>\n",
       "      <td>Disney Plus</td>\n",
       "      <td>Phone/Cable</td>\n",
       "      <td>24.99</td>\n",
       "    </tr>\n",
       "  </tbody>\n",
       "</table>\n",
       "</div>"
      ],
      "text/plain": [
       "         Date               Description        Category  Amount\n",
       "0  2023-12-28   CAPITAL ONE MOBILE PYMT  Payment/Credit  -40.00\n",
       "1  2023-12-27       PLAYSTATION NETWORK        Internet   19.11\n",
       "2  2023-12-20    GOOGLE *YouTube Videos   Entertainment   24.99\n",
       "3  2023-12-17               Spotify USA     Phone/Cable   10.99\n",
       "4  2023-12-14               Disney Plus     Phone/Cable   24.99\n",
       "5  2023-12-08            APPLE.COM/BILL   Entertainment    2.99\n",
       "6  2023-12-07  CAPITAL ONE AUTOPAY PYMT  Payment/Credit  -38.97\n",
       "7  2023-11-17               Spotify USA     Phone/Cable   10.99\n",
       "8  2023-11-14          MCDONALD'S F1473          Dining   12.97\n",
       "9  2023-11-14               Disney Plus     Phone/Cable   24.99"
      ]
     },
     "execution_count": 28,
     "metadata": {},
     "output_type": "execute_result"
    }
   ],
   "source": [
    "df3.head(10)"
   ]
  },
  {
   "cell_type": "code",
   "execution_count": 18,
   "metadata": {},
   "outputs": [
    {
     "data": {
      "text/plain": [
       "(Index(['Date', 'Description', 'Amount', 'Reference', 'Category'], dtype='object'),\n",
       " Index(['Transaction Date', 'Description', 'Category', 'Amount (USD)'], dtype='object'),\n",
       " Index(['Transaction Date', 'Description', 'Category', 'Amount'], dtype='object'))"
      ]
     },
     "execution_count": 18,
     "metadata": {},
     "output_type": "execute_result"
    }
   ],
   "source": [
    "df1.columns , df2.columns , df3.columns"
   ]
  },
  {
   "cell_type": "markdown",
   "metadata": {},
   "source": [
    "Now looking at all the features of the dataframes, we can see that they all have the same columns, just need to rename them so they have the same name and can then be combined. "
   ]
  },
  {
   "cell_type": "code",
   "execution_count": 19,
   "metadata": {},
   "outputs": [],
   "source": [
    "df2_col_names = {\"Transaction Date\": \"Date\", \"Amount (USD)\": \"Amount\"}\n",
    "df2.rename(columns=df2_col_names, inplace=True)\n",
    "\n",
    "df3_col_names = {\"Transaction Date\": \"Date\"}\n",
    "df3.rename(columns=df3_col_names, inplace=True)"
   ]
  },
  {
   "cell_type": "code",
   "execution_count": 32,
   "metadata": {},
   "outputs": [
    {
     "data": {
      "text/plain": [
       "(Index(['Date', 'Description', 'Amount', 'Category'], dtype='object'),\n",
       " Index(['Date', 'Description', 'Category', 'Amount'], dtype='object'),\n",
       " Index(['Date', 'Description', 'Category', 'Amount'], dtype='object'))"
      ]
     },
     "execution_count": 32,
     "metadata": {},
     "output_type": "execute_result"
    }
   ],
   "source": [
    "df1.columns , df2.columns , df3.columns"
   ]
  },
  {
   "cell_type": "markdown",
   "metadata": {},
   "source": [
    "Concat all the data frames"
   ]
  },
  {
   "cell_type": "code",
   "execution_count": 33,
   "metadata": {},
   "outputs": [],
   "source": [
    "df = pd.concat([df1, df2, df3], axis=0)"
   ]
  },
  {
   "cell_type": "code",
   "execution_count": 34,
   "metadata": {},
   "outputs": [
    {
     "data": {
      "text/html": [
       "<div>\n",
       "<style scoped>\n",
       "    .dataframe tbody tr th:only-of-type {\n",
       "        vertical-align: middle;\n",
       "    }\n",
       "\n",
       "    .dataframe tbody tr th {\n",
       "        vertical-align: top;\n",
       "    }\n",
       "\n",
       "    .dataframe thead th {\n",
       "        text-align: right;\n",
       "    }\n",
       "</style>\n",
       "<table border=\"1\" class=\"dataframe\">\n",
       "  <thead>\n",
       "    <tr style=\"text-align: right;\">\n",
       "      <th></th>\n",
       "      <th>Date</th>\n",
       "      <th>Description</th>\n",
       "      <th>Amount</th>\n",
       "      <th>Category</th>\n",
       "    </tr>\n",
       "  </thead>\n",
       "  <tbody>\n",
       "    <tr>\n",
       "      <th>0</th>\n",
       "      <td>04/27/2024</td>\n",
       "      <td>MOBILE PAYMENT - THANK YOU</td>\n",
       "      <td>-100.00</td>\n",
       "      <td>NaN</td>\n",
       "    </tr>\n",
       "    <tr>\n",
       "      <th>1</th>\n",
       "      <td>04/20/2024</td>\n",
       "      <td>MOBILE PAYMENT - THANK YOU</td>\n",
       "      <td>-710.00</td>\n",
       "      <td>NaN</td>\n",
       "    </tr>\n",
       "    <tr>\n",
       "      <th>2</th>\n",
       "      <td>04/18/2024</td>\n",
       "      <td>USCIS ELIS N400 0000WASHINGTON          DC</td>\n",
       "      <td>710.00</td>\n",
       "      <td>Other-Government Services</td>\n",
       "    </tr>\n",
       "    <tr>\n",
       "      <th>3</th>\n",
       "      <td>04/13/2024</td>\n",
       "      <td>MOBILE PAYMENT - THANK YOU</td>\n",
       "      <td>-100.00</td>\n",
       "      <td>NaN</td>\n",
       "    </tr>\n",
       "    <tr>\n",
       "      <th>4</th>\n",
       "      <td>04/08/2024</td>\n",
       "      <td>AMAZON MARKEPLACE NA PA</td>\n",
       "      <td>27.98</td>\n",
       "      <td>Merchandise &amp; Supplies-Internet Purchase</td>\n",
       "    </tr>\n",
       "  </tbody>\n",
       "</table>\n",
       "</div>"
      ],
      "text/plain": [
       "         Date                                 Description  Amount  \\\n",
       "0  04/27/2024                  MOBILE PAYMENT - THANK YOU -100.00   \n",
       "1  04/20/2024                  MOBILE PAYMENT - THANK YOU -710.00   \n",
       "2  04/18/2024  USCIS ELIS N400 0000WASHINGTON          DC  710.00   \n",
       "3  04/13/2024                  MOBILE PAYMENT - THANK YOU -100.00   \n",
       "4  04/08/2024                     AMAZON MARKEPLACE NA PA   27.98   \n",
       "\n",
       "                                   Category  \n",
       "0                                       NaN  \n",
       "1                                       NaN  \n",
       "2                 Other-Government Services  \n",
       "3                                       NaN  \n",
       "4  Merchandise & Supplies-Internet Purchase  "
      ]
     },
     "execution_count": 34,
     "metadata": {},
     "output_type": "execute_result"
    }
   ],
   "source": [
    "df.head()"
   ]
  },
  {
   "cell_type": "code",
   "execution_count": 35,
   "metadata": {},
   "outputs": [
    {
     "data": {
      "text/plain": [
       "(522, 4)"
      ]
     },
     "execution_count": 35,
     "metadata": {},
     "output_type": "execute_result"
    }
   ],
   "source": [
    "df.shape"
   ]
  },
  {
   "cell_type": "markdown",
   "metadata": {},
   "source": [
    "Now with a combined data frame, I will try to clean up the data, by changing some of the unavaialable categories "
   ]
  },
  {
   "cell_type": "code",
   "execution_count": 37,
   "metadata": {},
   "outputs": [
    {
     "data": {
      "text/plain": [
       "array([nan, 'Other-Government Services',\n",
       "       'Merchandise & Supplies-Internet Purchase',\n",
       "       'Restaurant-Restaurant', 'Business Services-Insurance Services',\n",
       "       'Entertainment-General Events',\n",
       "       'Merchandise & Supplies-Mail Order',\n",
       "       'Business Services-Health Care Services', 'Transportation-Fuel',\n",
       "       'Fees & Adjustments-Fees & Adjustments',\n",
       "       'Merchandise & Supplies-General Retail',\n",
       "       'Merchandise & Supplies-Clothing Stores',\n",
       "       'Merchandise & Supplies-Groceries',\n",
       "       'Business Services-Other Services',\n",
       "       'Merchandise & Supplies-Electronics Stores',\n",
       "       'Merchandise & Supplies-Department Stores',\n",
       "       'Merchandise & Supplies-Furnishing',\n",
       "       'Merchandise & Supplies-Sporting Goods Stores',\n",
       "       'Restaurant-Bar & Café', 'Merchandise & Supplies-Arts & Jewelry',\n",
       "       'Merchandise & Supplies-Music & Video', 'Payment', 'Other',\n",
       "       'Grocery', 'Restaurants', 'Installment', 'Utilities', 'Medical',\n",
       "       'Shopping', 'Debit', 'Credit', 'Gas', 'Entertainment',\n",
       "       'Payment/Credit', 'Internet', 'Phone/Cable', 'Dining',\n",
       "       'Merchandise', 'Health Care', 'Other Services', 'Gas/Automotive',\n",
       "       'Professional Services'], dtype=object)"
      ]
     },
     "execution_count": 37,
     "metadata": {},
     "output_type": "execute_result"
    }
   ],
   "source": [
    "df['Category'].unique()"
   ]
  },
  {
   "cell_type": "code",
   "execution_count": 43,
   "metadata": {},
   "outputs": [],
   "source": [
    "cat_map = {'nan': 'unavailable', \n",
    "           'Other-Government Services': 'Other',\n",
    "           'Merchandise & Supplies-Internet Purchase': 'Online Shopping',\n",
    "           'Restaurant-Restaurant': 'Restaurant',\n",
    "           'Business Services-Insurance Services': 'Insurance',\n",
    "           'Entertainment-General Events': 'Entertainment',\n",
    "           'Merchandise & Supplies-Mail Order': 'Online Shopping',\n",
    "           'Business Services-Health Care Services': 'Health Care',\n",
    "           'Transportation-Fuel': 'Fuel',\n",
    "           'Fees & Adjustments-Fees & Adjustments': 'Fees & Adjustments',\n",
    "           'Merchandise & Supplies-General Retail': 'Online Shopping',\n",
    "           'Merchandise & Supplies-Clothing Stores': 'Online Shopping',\n",
    "           'Merchandise & Supplies-Groceries': 'Groceries',\n",
    "           'Business Services-Other Services': 'Other',\n",
    "           'Merchandise & Supplies-Electronics Stores': 'Online Shopping',\n",
    "           'Merchandise & Supplies-Department Stores': 'Online Shopping',\n",
    "           'Merchandise & Supplies-Furnishing': 'Online Shopping',\n",
    "           'Merchandise & Supplies-Sporting Goods Stores': 'Online Shopping',\n",
    "           'Restaurant-Bar & Café': 'Restaurant',\n",
    "           'Merchandise & Supplies-Arts & Jewelry': 'Online Shopping',\n",
    "           'Merchandise & Supplies-Music & Video': 'Online Shopping',\n",
    "           'Medical': 'Health Care',\n",
    "           'Shopping': 'Online Shopping',\n",
    "           'Credit': 'Payment',\n",
    "           'Other Services': 'Other',\n",
    "           'Gas/Automotive' : 'Fuel',\n",
    "           'Merchandise': 'Online Shopping',\n",
    "}"
   ]
  },
  {
   "cell_type": "code",
   "execution_count": 44,
   "metadata": {},
   "outputs": [],
   "source": [
    "df.replace({'Category': cat_map}, inplace=True)"
   ]
  },
  {
   "cell_type": "code",
   "execution_count": 45,
   "metadata": {},
   "outputs": [
    {
     "data": {
      "text/html": [
       "<div>\n",
       "<style scoped>\n",
       "    .dataframe tbody tr th:only-of-type {\n",
       "        vertical-align: middle;\n",
       "    }\n",
       "\n",
       "    .dataframe tbody tr th {\n",
       "        vertical-align: top;\n",
       "    }\n",
       "\n",
       "    .dataframe thead th {\n",
       "        text-align: right;\n",
       "    }\n",
       "</style>\n",
       "<table border=\"1\" class=\"dataframe\">\n",
       "  <thead>\n",
       "    <tr style=\"text-align: right;\">\n",
       "      <th></th>\n",
       "      <th>Date</th>\n",
       "      <th>Description</th>\n",
       "      <th>Amount</th>\n",
       "      <th>Category</th>\n",
       "    </tr>\n",
       "  </thead>\n",
       "  <tbody>\n",
       "    <tr>\n",
       "      <th>0</th>\n",
       "      <td>04/27/2024</td>\n",
       "      <td>MOBILE PAYMENT - THANK YOU</td>\n",
       "      <td>-100.00</td>\n",
       "      <td>NaN</td>\n",
       "    </tr>\n",
       "    <tr>\n",
       "      <th>1</th>\n",
       "      <td>04/20/2024</td>\n",
       "      <td>MOBILE PAYMENT - THANK YOU</td>\n",
       "      <td>-710.00</td>\n",
       "      <td>NaN</td>\n",
       "    </tr>\n",
       "    <tr>\n",
       "      <th>2</th>\n",
       "      <td>04/18/2024</td>\n",
       "      <td>USCIS ELIS N400 0000WASHINGTON          DC</td>\n",
       "      <td>710.00</td>\n",
       "      <td>Other</td>\n",
       "    </tr>\n",
       "    <tr>\n",
       "      <th>3</th>\n",
       "      <td>04/13/2024</td>\n",
       "      <td>MOBILE PAYMENT - THANK YOU</td>\n",
       "      <td>-100.00</td>\n",
       "      <td>NaN</td>\n",
       "    </tr>\n",
       "    <tr>\n",
       "      <th>4</th>\n",
       "      <td>04/08/2024</td>\n",
       "      <td>AMAZON MARKEPLACE NA PA</td>\n",
       "      <td>27.98</td>\n",
       "      <td>Online Shopping</td>\n",
       "    </tr>\n",
       "    <tr>\n",
       "      <th>5</th>\n",
       "      <td>04/08/2024</td>\n",
       "      <td>AMAZON.COM          AMZN.COM/BILL       WA</td>\n",
       "      <td>11.94</td>\n",
       "      <td>Online Shopping</td>\n",
       "    </tr>\n",
       "    <tr>\n",
       "      <th>6</th>\n",
       "      <td>04/06/2024</td>\n",
       "      <td>MOBILE PAYMENT - THANK YOU</td>\n",
       "      <td>-100.00</td>\n",
       "      <td>NaN</td>\n",
       "    </tr>\n",
       "    <tr>\n",
       "      <th>7</th>\n",
       "      <td>04/05/2024</td>\n",
       "      <td>COQUETTE SEAPORT COQBOSTON              MA</td>\n",
       "      <td>111.15</td>\n",
       "      <td>Restaurant</td>\n",
       "    </tr>\n",
       "    <tr>\n",
       "      <th>8</th>\n",
       "      <td>03/30/2024</td>\n",
       "      <td>MOBILE PAYMENT - THANK YOU</td>\n",
       "      <td>-100.00</td>\n",
       "      <td>NaN</td>\n",
       "    </tr>\n",
       "    <tr>\n",
       "      <th>9</th>\n",
       "      <td>03/24/2024</td>\n",
       "      <td>PADDLE.NET* IMAZING ASTORIA             NY</td>\n",
       "      <td>39.99</td>\n",
       "      <td>Online Shopping</td>\n",
       "    </tr>\n",
       "  </tbody>\n",
       "</table>\n",
       "</div>"
      ],
      "text/plain": [
       "         Date                                 Description  Amount  \\\n",
       "0  04/27/2024                  MOBILE PAYMENT - THANK YOU -100.00   \n",
       "1  04/20/2024                  MOBILE PAYMENT - THANK YOU -710.00   \n",
       "2  04/18/2024  USCIS ELIS N400 0000WASHINGTON          DC  710.00   \n",
       "3  04/13/2024                  MOBILE PAYMENT - THANK YOU -100.00   \n",
       "4  04/08/2024                     AMAZON MARKEPLACE NA PA   27.98   \n",
       "5  04/08/2024  AMAZON.COM          AMZN.COM/BILL       WA   11.94   \n",
       "6  04/06/2024                  MOBILE PAYMENT - THANK YOU -100.00   \n",
       "7  04/05/2024  COQUETTE SEAPORT COQBOSTON              MA  111.15   \n",
       "8  03/30/2024                  MOBILE PAYMENT - THANK YOU -100.00   \n",
       "9  03/24/2024  PADDLE.NET* IMAZING ASTORIA             NY   39.99   \n",
       "\n",
       "          Category  \n",
       "0              NaN  \n",
       "1              NaN  \n",
       "2            Other  \n",
       "3              NaN  \n",
       "4  Online Shopping  \n",
       "5  Online Shopping  \n",
       "6              NaN  \n",
       "7       Restaurant  \n",
       "8              NaN  \n",
       "9  Online Shopping  "
      ]
     },
     "execution_count": 45,
     "metadata": {},
     "output_type": "execute_result"
    }
   ],
   "source": [
    "df.head(10)"
   ]
  },
  {
   "cell_type": "code",
   "execution_count": 46,
   "metadata": {},
   "outputs": [
    {
     "data": {
      "text/plain": [
       "array([nan, 'Other', 'Online Shopping', 'Restaurant', 'Insurance',\n",
       "       'Entertainment', 'Health Care', 'Fuel', 'Fees & Adjustments',\n",
       "       'Groceries', 'Payment', 'Grocery', 'Restaurants', 'Installment',\n",
       "       'Utilities', 'Debit', 'Gas', 'Payment/Credit', 'Internet',\n",
       "       'Phone/Cable', 'Dining', 'Professional Services'], dtype=object)"
      ]
     },
     "execution_count": 46,
     "metadata": {},
     "output_type": "execute_result"
    }
   ],
   "source": [
    "df['Category'].unique()"
   ]
  },
  {
   "cell_type": "code",
   "execution_count": 47,
   "metadata": {},
   "outputs": [],
   "source": [
    "df.fillna('unavailable', inplace=True)"
   ]
  },
  {
   "cell_type": "code",
   "execution_count": 48,
   "metadata": {},
   "outputs": [
    {
     "data": {
      "text/plain": [
       "array(['unavailable', 'Other', 'Online Shopping', 'Restaurant',\n",
       "       'Insurance', 'Entertainment', 'Health Care', 'Fuel',\n",
       "       'Fees & Adjustments', 'Groceries', 'Payment', 'Grocery',\n",
       "       'Restaurants', 'Installment', 'Utilities', 'Debit', 'Gas',\n",
       "       'Payment/Credit', 'Internet', 'Phone/Cable', 'Dining',\n",
       "       'Professional Services'], dtype=object)"
      ]
     },
     "execution_count": 48,
     "metadata": {},
     "output_type": "execute_result"
    }
   ],
   "source": [
    "df['Category'].unique()"
   ]
  },
  {
   "cell_type": "markdown",
   "metadata": {},
   "source": [
    "I realize that what I just did is definetly not the best practice, I manually went through and altered the data to fit into less categories. I think however, for the purposes of this project it is alright as this serves as just extra practice into machine learning models. In the future I will absolutely use more professional methods to clean the data. "
   ]
  },
  {
   "cell_type": "markdown",
   "metadata": {},
   "source": [
    "The next step of the process would be to create a machine learning model for the examples. However, I realized that what I am trying to do is a multi classification problem, trying to predict the class of a fututre transaction. I think its best to end this project here, as the data collected is not substential enough to train any type of model, the trianing data would only have 400 or so examples (taking some away for testing), and only one feature, the amount. I dont think this is enough to create a model that would get any meaningful information. "
   ]
  },
  {
   "cell_type": "markdown",
   "metadata": {},
   "source": [
    "Altought the project ended prematurely, this was a valuable project as I gained more experaince using pandas dataframes, cleaning data and using jupyter notebooks. "
   ]
  },
  {
   "cell_type": "markdown",
   "metadata": {},
   "source": []
  }
 ],
 "metadata": {
  "kernelspec": {
   "display_name": "Python 3",
   "language": "python",
   "name": "python3"
  },
  "language_info": {
   "codemirror_mode": {
    "name": "ipython",
    "version": 3
   },
   "file_extension": ".py",
   "mimetype": "text/x-python",
   "name": "python",
   "nbconvert_exporter": "python",
   "pygments_lexer": "ipython3",
   "version": "3.11.2"
  }
 },
 "nbformat": 4,
 "nbformat_minor": 2
}
